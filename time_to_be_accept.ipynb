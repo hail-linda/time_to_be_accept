{
 "cells": [
  {
   "cell_type": "markdown",
   "metadata": {},
   "source": [
    "## 设置"
   ]
  },
  {
   "cell_type": "code",
   "execution_count": null,
   "metadata": {},
   "outputs": [],
   "source": [
    "baiduAccessTokenGetUrl = \"https://aip.baidubce.com/oauth/2.0/token?grant_type=client_credentials&client_id={your own client_id}&client_secret={your own client_secret}\""
   ]
  },
  {
   "cell_type": "code",
   "execution_count": null,
   "metadata": {},
   "outputs": [],
   "source": [
    "# 通用库\n",
    "import os, datetime, re\n",
    "import numpy as np\n",
    "import matplotlib.pyplot as plt\n",
    "\n",
    "# PDF及图片处理\n",
    "import fitz\n",
    "from PIL import Image\n",
    "\n",
    "# 调百度OCR的API\n",
    "import requests\n",
    "import base64\n",
    "\n",
    "# 绘图\n",
    "import matplotlib.pyplot as plt\n",
    "import matplotlib.dates as mdates"
   ]
  },
  {
   "cell_type": "code",
   "execution_count": null,
   "metadata": {},
   "outputs": [],
   "source": [
    "def findPDFFiles():\n",
    "    pdfFiles = []\n",
    "    for root, dirs, files in os.walk(\"./pdfs\"):\n",
    "        for file in files:\n",
    "            if file.endswith(\".pdf\"):\n",
    "                pdfFiles.append(file)\n",
    "    return pdfFiles\n",
    "\n",
    "def rgb2gray(rgb):\n",
    "    return np.dot(rgb[...,:3], [0.2989, 0.5870, 0.1140])\n",
    "\n",
    "def countContinuousOne(array):\n",
    "    count = 0\n",
    "    countList = []\n",
    "    position = []\n",
    "    for index in range(len(array)):\n",
    "        i = array[index]\n",
    "        if i == 1:\n",
    "            count += 1\n",
    "        else:\n",
    "            if count != 0:\n",
    "                countList.append(count)\n",
    "                position.append(index)\n",
    "                count = 0\n",
    "    return countList, position\n",
    "\n",
    "def findCloseTo101(array):\n",
    "    lineList = []\n",
    "    for i in range(len(array)):\n",
    "        if array[i]>100 and array[i]<140:\n",
    "            lineList.append(i)\n",
    "    return lineList\n",
    "\n",
    "def pdf_image(pdfPath, zoom_x, zoom_y, rotation_angle):\n",
    "    pdf = fitz.open(\"./pdfs/\"+pdfPath)\n",
    "    for page in pdf.pages():\n",
    "        mat = fitz.Matrix(zoom_x, zoom_y)\n",
    "        pix = page.get_pixmap(matrix=mat, dpi=None, colorspace='rgb', alpha=False)\n",
    "\n",
    "        pix.save(\"images.png\")\n",
    "        break\n",
    "    pdf.close()\n",
    "    \n",
    "pdfFiles = findPDFFiles()\n",
    "for fileName in pdfFiles:\n",
    "    pdf_image(fileName, 10, 10, 0)\n",
    "    img = Image.open(\"images.png\")\n",
    "    width, height = img.size\n",
    "    imgCut = img.crop((0, 0, width/2, 7300))\n",
    "    imgCutArray = np.array(imgCut)\n",
    "    imgCutArrayGray = rgb2gray(imgCutArray)\n",
    "    imgCutArrayGraySum = np.sum(imgCutArrayGray, axis=1)\n",
    "\n",
    "    emptyLine = np.zeros_like(imgCutArrayGraySum)\n",
    "    emptyLine[imgCutArrayGraySum>780000] = 1\n",
    "    countList,position = countContinuousOne(emptyLine)\n",
    "    lineList = findCloseTo101(countList)\n",
    "    lineListPosition = [position[i]-50 for i in lineList]\n",
    "    print(lineListPosition[-1])\n",
    "    imgCut2 = img.crop((0, lineListPosition[-1], width/2, lineListPosition[-1]+500))\n",
    "    imgCut2.save(f\"images/{fileName[:-4]}.png\")"
   ]
  },
  {
   "cell_type": "code",
   "execution_count": null,
   "metadata": {},
   "outputs": [],
   "source": [
    "def findPngFiles(rootDir):\n",
    "    pngFiles = []\n",
    "    for root, dirs, files in os.walk(rootDir):\n",
    "        for file in files:\n",
    "            if file.endswith(\".png\"):\n",
    "                pngFiles.append(file)\n",
    "    return pngFiles\n",
    "pngFiles = findPngFiles(\"./images\")"
   ]
  },
  {
   "cell_type": "code",
   "execution_count": null,
   "metadata": {},
   "outputs": [],
   "source": [
    "payload = \"\"\n",
    "headers = {\n",
    "    'Content-Type': 'application/json',\n",
    "    'Accept': 'application/json'\n",
    "}\n",
    "response = requests.request(\"POST\", baiduAccessTokenGetUrl, headers=headers, data=payload)\n",
    "access_token = response.json()['access_token']\n",
    "print(response.json()['access_token'])"
   ]
  },
  {
   "cell_type": "code",
   "execution_count": null,
   "metadata": {},
   "outputs": [],
   "source": [
    "request_url = \"https://aip.baidubce.com/rest/2.0/ocr/v1/accurate_basic\"\n",
    "textList = []\n",
    "for pngFile in pngFiles:\n",
    "    f = open(f\"./images/{pngFile}\", \"rb\")\n",
    "    img = base64.b64encode(f.read())\n",
    "\n",
    "    params = {\"image\":img}\n",
    "    request_url = request_url + \"?access_token=\" + access_token\n",
    "    headers = {'content-type': 'application/x-www-form-urlencoded'}\n",
    "    response = requests.post(request_url, data=params, headers=headers)\n",
    "    if response:\n",
    "        # print (response.json())\n",
    "        text = \" \".join([item['words'] for item in response.json()['words_result']])\n",
    "        print(text)\n",
    "        textList.append(text)"
   ]
  },
  {
   "cell_type": "code",
   "execution_count": null,
   "metadata": {},
   "outputs": [],
   "source": [
    "srcTextList = textList\n",
    "textList = [item for item in textList if \"Manuscript\" in item[:40]]"
   ]
  },
  {
   "cell_type": "code",
   "execution_count": null,
   "metadata": {},
   "outputs": [],
   "source": [
    "\n",
    "textItem = textList[0]\n",
    "print(textItem)\n",
    "textItemInforList = re.split('\\.|；', textItem)\n",
    "textItemInforList"
   ]
  },
  {
   "cell_type": "code",
   "execution_count": null,
   "metadata": {},
   "outputs": [],
   "source": [
    "\n",
    "def textDate2Date(text):\n",
    "    text = text.replace(\"th\", \"\").replace(\"st\", \"\").replace(\"rd\", \"\").replace(\"nd\", \"\")\n",
    "    text = text.replace(\"January\", \"01\").replace(\"February\", \"02\").replace(\"March\", \"03\").replace(\"April\", \"04\")\n",
    "    text = text.replace(\"May\", \"05\").replace(\"June\", \"06\").replace(\"July\", \"07\").replace(\"Augu\", \"08\").replace(\"September\", \"09\")\n",
    "    text = text.replace(\"October\", \"10\").replace(\"November\", \"11\").replace(\"December\", \"12\")\n",
    "    text = text.replace(\" \", \"-\")\n",
    "    return datetime.datetime.strptime(text, \"%d-%m-%Y\")"
   ]
  },
  {
   "cell_type": "code",
   "execution_count": null,
   "metadata": {},
   "outputs": [],
   "source": [
    "acceptList = []\n",
    "for textItem in textList:\n",
    "    print(textItem)\n",
    "    textItemInforList = re.split('\\.|；', textItem)\n",
    "\n",
    "    textDict = {}\n",
    "    for item in textItemInforList:\n",
    "        if \"received\" in  item:\n",
    "            textDict[\"received\"] = textDate2Date(\" \".join(item.split(\" \")[-3:]))\n",
    "        if \"accepted\" in  item:\n",
    "            textDict[\"accepted\"] = textDate2Date(\" \".join(item.split(\" \")[-3:]))\n",
    "        if \"revised\" in item:\n",
    "            textDict[\"revised\"] = textDate2Date(\" \".join(item.split(\" \")[-3:]))\n",
    "        if \"Date of publication\" in item:\n",
    "            textDict[\"publication\"] = textDate2Date(\" \".join(item.split(\" \")[-3:]))\n",
    "        if \"current version\" in item:\n",
    "            textDict[\"currentVersion\"] = textDate2Date(\" \".join(item.split(\" \")[-3:]))\n",
    "    acceptList.append(textDict)\n"
   ]
  },
  {
   "cell_type": "code",
   "execution_count": null,
   "metadata": {},
   "outputs": [],
   "source": [
    "for accept in acceptList:\n",
    "    accept['received-accepted'] = accept['accepted'] - accept['received']\n",
    "    if 'revised' not in accept:\n",
    "        accept['received-revised'] = None\n",
    "    else:\n",
    "        accept['received-revised'] = accept['revised'] - accept['received']\n",
    "    if 'revised' not in accept:\n",
    "        accept['revised-accepted'] = None\n",
    "    else:\n",
    "        accept['revised-accepted'] = accept['accepted'] - accept['revised']\n"
   ]
  },
  {
   "cell_type": "code",
   "execution_count": null,
   "metadata": {},
   "outputs": [],
   "source": []
  },
  {
   "cell_type": "code",
   "execution_count": null,
   "metadata": {},
   "outputs": [],
   "source": [
    "# hist received\n",
    "def hist(dataName,dataList = []):\n",
    "    if dataList == []:\n",
    "        dataList = [item[dataName] for item in acceptList if dataName in item]\n",
    "        dataList.sort()\n",
    "\n",
    "    fig, ax = plt.subplots()\n",
    "    ax.hist(dataList, bins=30, color='lightblue')\n",
    "    # title\n",
    "    ax.set_title(dataName)\n",
    "hist('received')\n",
    "hist('accepted')\n",
    "hist('revised')\n",
    "hist('publication')\n",
    "\n",
    "# hist received-accepted\n",
    "dataList = [item['received-accepted'].days for item in acceptList]\n",
    "hist('received-accepted', dataList)\n",
    "\n",
    "# hist accepted-revised\n",
    "dataList = [item['received-revised'].days for item in acceptList if item['received-revised'] != None]\n",
    "hist('received-revised', dataList)\n",
    "\n",
    "# hist revised-accepted\n",
    "dataList = [item['revised-accepted'].days for item in acceptList if item['revised-accepted'] != None]\n",
    "hist('revised-accepted', dataList)"
   ]
  }
 ],
 "metadata": {
  "kernelspec": {
   "display_name": "Python 3",
   "language": "python",
   "name": "python3"
  },
  "language_info": {
   "codemirror_mode": {
    "name": "ipython",
    "version": 3
   },
   "file_extension": ".py",
   "mimetype": "text/x-python",
   "name": "python",
   "nbconvert_exporter": "python",
   "pygments_lexer": "ipython3",
   "version": "3.10.10"
  }
 },
 "nbformat": 4,
 "nbformat_minor": 2
}
